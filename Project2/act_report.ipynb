{
 "cells": [
  {
   "cell_type": "markdown",
   "metadata": {},
   "source": [
    "## act_report"
   ]
  },
  {
   "cell_type": "markdown",
   "metadata": {},
   "source": [
    "Import Image package to be used for rendering images"
   ]
  },
  {
   "cell_type": "code",
   "execution_count": 3,
   "metadata": {},
   "outputs": [],
   "source": [
    "from IPython.display import Image"
   ]
  },
  {
   "cell_type": "markdown",
   "metadata": {},
   "source": [
    "### Viral Tweets\n",
    "\n",
    "What percentage of higly rated movies are viral. High rated dog breeds have a numerator of greater than 10.\n",
    "\n",
    "This can also be viewed for rating less than or equal to 10.\n"
   ]
  },
  {
   "cell_type": "markdown",
   "metadata": {},
   "source": [
    "From the below scatter plot for dog rated above 12, we can conclude that not all dogs with high rating get to trend. This is to mean that there are other significant factors that affect trending.\n",
    "\n",
    "This might include the hillarous comment posted by the weratedogs admins"
   ]
  },
  {
   "cell_type": "markdown",
   "metadata": {},
   "source": [
    "\n",
    "![title](screen_shots/rating_above_10.png)"
   ]
  },
  {
   "cell_type": "markdown",
   "metadata": {},
   "source": [
    "From the below, we can conclude that some dog rating can trend even when they have been rated 10 and below"
   ]
  },
  {
   "cell_type": "markdown",
   "metadata": {},
   "source": [
    "![title](screen_shots/rating_below_10.png)"
   ]
  },
  {
   "cell_type": "markdown",
   "metadata": {},
   "source": [
    "The two charts above denote that there is a positive correlation between  retweet count and favorite count.\n",
    "\n",
    "The higher the retweet count the higher the favorite count and vice versa"
   ]
  },
  {
   "cell_type": "markdown",
   "metadata": {},
   "source": [
    "![title](screen_shots/Top_10_Dog_names.png)"
   ]
  },
  {
   "cell_type": "markdown",
   "metadata": {},
   "source": [
    "From the above chart, we can be able to see the top 10 dog breads based on the favorite count the tweet attracted.\n",
    "\n",
    "`Duddles` is the highest with an average rating of **107956**"
   ]
  },
  {
   "cell_type": "markdown",
   "metadata": {},
   "source": [
    "### Source"
   ]
  },
  {
   "cell_type": "markdown",
   "metadata": {},
   "source": [
    "From the two bar graphs below, most activities i.e. *retweet* and *favorite* are done on the **iPhone**.\n",
    "\n",
    "Content can be tailored to favour this device as it is the most widely used and the numbers is higher in comparison to the next 2 combined"
   ]
  },
  {
   "cell_type": "markdown",
   "metadata": {},
   "source": [
    "![title](screen_shots/favorite_count.png)"
   ]
  },
  {
   "cell_type": "markdown",
   "metadata": {},
   "source": [
    "![title](screen_shots/retweet_count.png)"
   ]
  }
 ],
 "metadata": {
  "kernelspec": {
   "display_name": "Python 3 (ipykernel)",
   "language": "python",
   "name": "python3"
  },
  "language_info": {
   "codemirror_mode": {
    "name": "ipython",
    "version": 3
   },
   "file_extension": ".py",
   "mimetype": "text/x-python",
   "name": "python",
   "nbconvert_exporter": "python",
   "pygments_lexer": "ipython3",
   "version": "3.9.9"
  }
 },
 "nbformat": 4,
 "nbformat_minor": 2
}
